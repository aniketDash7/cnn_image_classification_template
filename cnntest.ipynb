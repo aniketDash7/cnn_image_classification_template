{
 "cells": [
  {
   "cell_type": "markdown",
   "metadata": {},
   "source": [
    "Necessary Imports"
   ]
  },
  {
   "cell_type": "code",
   "execution_count": 36,
   "metadata": {},
   "outputs": [],
   "source": [
    "import numpy as np \n",
    "import torch \n",
    "import torch.nn as nn \n",
    "import torch.nn.functional as F\n",
    "import torchvision\n",
    "import torchvision.transforms as transforms\n",
    "import matplotlib.pyplot as plt "
   ]
  },
  {
   "cell_type": "markdown",
   "metadata": {},
   "source": [
    "Device Configuration"
   ]
  },
  {
   "cell_type": "code",
   "execution_count": 37,
   "metadata": {},
   "outputs": [
    {
     "data": {
      "text/plain": [
       "device(type='cuda')"
      ]
     },
     "execution_count": 37,
     "metadata": {},
     "output_type": "execute_result"
    }
   ],
   "source": [
    "device = torch.device('cuda' if torch.cuda.is_available() else 'cpu')\n",
    "device "
   ]
  },
  {
   "cell_type": "markdown",
   "metadata": {},
   "source": [
    "Setting hyperparameters "
   ]
  },
  {
   "cell_type": "code",
   "execution_count": 38,
   "metadata": {},
   "outputs": [],
   "source": [
    "num_epoch = 5\n",
    "batch_size = 10\n",
    "lr = 0.001"
   ]
  },
  {
   "cell_type": "markdown",
   "metadata": {},
   "source": [
    "CIFAR10 dataset has PILImage images of range [0,1]. We have to transform them to tensors with normalized range[-1,1]"
   ]
  },
  {
   "cell_type": "code",
   "execution_count": 39,
   "metadata": {},
   "outputs": [],
   "source": [
    "transform = transforms.Compose([\n",
    "    transforms.ToTensor(),\n",
    "    transforms.Normalize((0.5,0.5,0.5),(0.5,0.5,0.5))\n",
    "])"
   ]
  },
  {
   "cell_type": "code",
   "execution_count": 40,
   "metadata": {},
   "outputs": [
    {
     "name": "stdout",
     "output_type": "stream",
     "text": [
      "Files already downloaded and verified\n",
      "Files already downloaded and verified\n"
     ]
    }
   ],
   "source": [
    "train_dataset = torchvision.datasets.CIFAR10(root='./data',train=True,download=True,transform=transform)\n",
    "test_dataset = torchvision.datasets.CIFAR10(root='./data',train=False,download=True,transform=transform)"
   ]
  },
  {
   "cell_type": "code",
   "execution_count": 41,
   "metadata": {},
   "outputs": [],
   "source": [
    "train_loader = torch.utils.data.DataLoader(train_dataset,batch_size=batch_size,shuffle=True)\n",
    "test_loader = torch.utils.data.DataLoader(test_dataset,batch_size=batch_size,shuffle=False)\n",
    "classes = (\"airplanes\", \"cars\", \"birds\", \"cats\", \"deer\", \"dogs\", \"frogs\", \"horses\", \"ships\", \"trucks\")"
   ]
  },
  {
   "cell_type": "code",
   "execution_count": 42,
   "metadata": {},
   "outputs": [],
   "source": []
  },
  {
   "cell_type": "code",
   "execution_count": 43,
   "metadata": {},
   "outputs": [],
   "source": [
    "class ConvNet(nn.Module):\n",
    "    def __init__(self):\n",
    "        super(ConvNet,self).__init__()\n",
    "        self.conv1 = nn.Conv2d(3,6,5)\n",
    "        #3 is the number of input channels that are the RGB channels \n",
    "        self.pool = nn.MaxPool2d(2,2)\n",
    "        #kernel size of 2 and stride of 2\n",
    "        self.conv2 = nn.Conv2d(6,16,5)\n",
    "        #number of input channels in the next layer must be equal to the number of output channels in the last layer\n",
    "\n",
    "        #The calculation of the number of inputs to the dense layers must be precalculated using the formula \n",
    "        #w2 = ((w1 - f + 2p) / s) + 1 \n",
    "        self.fc1 = nn.Linear(16*5*5,120)\n",
    "        self.fc2 = nn.Linear(120,84)\n",
    "        self.fc3 = nn.Linear(84,10)\n",
    "        #everything else can vary but the number of inputs going into the dense layers and the outputs of them must be fixed\n",
    "        #output of the last dense layer is 10 because we have 10 classes. \n",
    "\n",
    "\n",
    "    def forward(self,x):\n",
    "        x = self.pool(F.relu(self.conv1(x)))\n",
    "        x = self.pool(F.relu(self.conv2(x)))\n",
    "        #before passing it to the fully connected dense layers we have to flatten the output of the convpool layers\n",
    "        x = x.view(-1,16*5*5) # tensor flattened \n",
    "        #-1 denotes the number of samples in our batch \n",
    "        x = F.relu(self.fc1(x))\n",
    "        x = F.relu(self.fc2(x))\n",
    "        x = self.fc3(x)\n",
    "        # no softmax activation function needed as it is already handled by the crossentropy loss \n",
    "        return x"
   ]
  },
  {
   "cell_type": "code",
   "execution_count": 44,
   "metadata": {},
   "outputs": [],
   "source": [
    "model = ConvNet().to(device)\n",
    "criterion = nn.CrossEntropyLoss()\n",
    "optimizer = torch.optim.SGD(model.parameters(),lr=lr)"
   ]
  },
  {
   "cell_type": "markdown",
   "metadata": {},
   "source": [
    "Training Loop "
   ]
  },
  {
   "cell_type": "code",
   "execution_count": 45,
   "metadata": {},
   "outputs": [
    {
     "name": "stdout",
     "output_type": "stream",
     "text": [
      "Epoch [1/5], step [2000/5000], loss :2.3072\n",
      "Epoch [1/5], step [4000/5000], loss :2.3153\n",
      "Epoch [2/5], step [2000/5000], loss :2.2558\n",
      "Epoch [2/5], step [4000/5000], loss :2.1900\n",
      "Epoch [3/5], step [2000/5000], loss :1.8270\n",
      "Epoch [3/5], step [4000/5000], loss :2.0054\n",
      "Epoch [4/5], step [2000/5000], loss :1.9537\n",
      "Epoch [4/5], step [4000/5000], loss :1.5781\n",
      "Epoch [5/5], step [2000/5000], loss :1.2565\n",
      "Epoch [5/5], step [4000/5000], loss :1.2821\n",
      "Finished Training\n"
     ]
    }
   ],
   "source": [
    "n_total_steps = len(train_loader)\n",
    "for epoch in range(num_epoch):\n",
    "    for i, (images,labels) in enumerate(train_loader):\n",
    "        #pushing the images and labels to the gpu \n",
    "        images = images.to(device)\n",
    "        labels = labels.to(device)\n",
    "\n",
    "        #doing a forward pass and computing the loss\n",
    "        output = model(images)\n",
    "        loss = criterion(output,labels) \n",
    "\n",
    "        #backward propagation after emptying the gradients \n",
    "        optimizer.zero_grad()\n",
    "        loss.backward()\n",
    "        optimizer.step()\n",
    "\n",
    "        if (i+1) % 2000 == 0 :\n",
    "            print(f'Epoch [{epoch + 1}/{num_epoch}], step [{i+1}/{n_total_steps}], loss :{loss.item():.4f}')\n",
    "print(\"Finished Training\")"
   ]
  },
  {
   "cell_type": "markdown",
   "metadata": {},
   "source": [
    "Evaluation"
   ]
  },
  {
   "cell_type": "code",
   "execution_count": 46,
   "metadata": {},
   "outputs": [
    {
     "name": "stdout",
     "output_type": "stream",
     "text": [
      "Accuracy of the network :  20.0\n",
      "Accuracy of plane : 0.0 %\n",
      "Accuracy of car : 0.0 %\n",
      "Accuracy of bird: N/A (no samples)\n",
      "Accuracy of cat : 0.0 %\n",
      "Accuracy of deer: N/A (no samples)\n",
      "Accuracy of dog : 50.0 %\n",
      "Accuracy of frog: N/A (no samples)\n",
      "Accuracy of horse : 50.0 %\n",
      "Accuracy of ship : 0.0 %\n",
      "Accuracy of truck: N/A (no samples)\n"
     ]
    }
   ],
   "source": [
    "with torch.no_grad():\n",
    "    #disabling gradient computation \n",
    "    n_correct = 0\n",
    "    n_samples = 0\n",
    "    n_class_correct = [0 for i in range(10)]\n",
    "    n_class_samples = [0 for i in range(10)]\n",
    "\n",
    "    for images,labels in test_loader:\n",
    "        images = images.to(device)\n",
    "        labels = labels.to(device)\n",
    "        outputs = model(images)\n",
    "\n",
    "    _,predicted = torch.max(outputs,1)\n",
    "    n_samples += labels.size(0)\n",
    "    n_correct += (predicted == labels).sum().item()\n",
    "    for i in range(batch_size):\n",
    "        label = labels[i]\n",
    "        pred = predicted[i]\n",
    "        if (label == pred):\n",
    "            n_class_correct[label] += 1 \n",
    "        n_class_samples[label] += 1 \n",
    "\n",
    "    acc = 100.0 * n_correct/n_samples \n",
    "    print(\"Accuracy of the network : \",acc)\n",
    "    for i in range(10):\n",
    "        if n_class_samples[i] > 0:\n",
    "            acc = 100*n_class_correct[i]/n_class_samples[i]\n",
    "            print(f\"Accuracy of {classes[i]} : {acc} %\")\n",
    "        else:\n",
    "            print(f\"Accuracy of {classes[i]}: N/A (no samples)\")\n",
    "        \n"
   ]
  },
  {
   "cell_type": "code",
   "execution_count": null,
   "metadata": {},
   "outputs": [],
   "source": []
  },
  {
   "cell_type": "code",
   "execution_count": null,
   "metadata": {},
   "outputs": [],
   "source": []
  },
  {
   "cell_type": "code",
   "execution_count": null,
   "metadata": {},
   "outputs": [],
   "source": []
  },
  {
   "cell_type": "code",
   "execution_count": null,
   "metadata": {},
   "outputs": [],
   "source": []
  },
  {
   "cell_type": "code",
   "execution_count": null,
   "metadata": {},
   "outputs": [],
   "source": []
  }
 ],
 "metadata": {
  "kernelspec": {
   "display_name": "base",
   "language": "python",
   "name": "python3"
  },
  "language_info": {
   "codemirror_mode": {
    "name": "ipython",
    "version": 3
   },
   "file_extension": ".py",
   "mimetype": "text/x-python",
   "name": "python",
   "nbconvert_exporter": "python",
   "pygments_lexer": "ipython3",
   "version": "3.12.3"
  }
 },
 "nbformat": 4,
 "nbformat_minor": 2
}
